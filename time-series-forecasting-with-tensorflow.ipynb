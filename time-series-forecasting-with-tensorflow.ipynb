{
 "cells": [
  {
   "cell_type": "markdown",
   "id": "22696891",
   "metadata": {},
   "source": [
    "### Time series forecasting in TensorFlow\n",
    "The goal of this notebook is to get you familiar with working with time series data and TensorFlow.\n",
    ">⚠️ This is not financial advice, as you'll see time series forecasting for stock market prices is actually quite terrible."
   ]
  },
  {
   "cell_type": "code",
   "execution_count": 1,
   "id": "5f53a456",
   "metadata": {},
   "outputs": [],
   "source": [
    "import os\n",
    "os.environ[\"TF_CPP_MIN_LOG_LEVEL\"] = \"3\"\n",
    "\n",
    "import pandas as pd\n",
    "import numpy as np\n",
    "import tensorflow as tf\n",
    "\n",
    "from sklearn.model_selection import train_test_split"
   ]
  },
  {
   "cell_type": "markdown",
   "id": "eb87eb1f",
   "metadata": {},
   "source": [
    "#### Get data\n",
    "To build a time series forecasting model, the first thing we're going to need is data.\n",
    "\n",
    "And since we're trying to predict the price of Bitcoin, we'll need Bitcoin data.\n",
    "\n",
    "Specifically, we're going to get the prices of Bitcoin from 01 October 2013 to 08 Dec 2021.\n",
    "\n",
    "Data source [Coindesk](https://www.coindesk.com/price/bitcoin/)"
   ]
  },
  {
   "cell_type": "code",
   "execution_count": 2,
   "id": "a74ef9b1",
   "metadata": {},
   "outputs": [
    {
     "data": {
      "text/html": [
       "<div>\n",
       "<style scoped>\n",
       "    .dataframe tbody tr th:only-of-type {\n",
       "        vertical-align: middle;\n",
       "    }\n",
       "\n",
       "    .dataframe tbody tr th {\n",
       "        vertical-align: top;\n",
       "    }\n",
       "\n",
       "    .dataframe thead th {\n",
       "        text-align: right;\n",
       "    }\n",
       "</style>\n",
       "<table border=\"1\" class=\"dataframe\">\n",
       "  <thead>\n",
       "    <tr style=\"text-align: right;\">\n",
       "      <th></th>\n",
       "      <th>Currency</th>\n",
       "      <th>Closing Price (USD)</th>\n",
       "      <th>24h Open (USD)</th>\n",
       "      <th>24h High (USD)</th>\n",
       "      <th>24h Low (USD)</th>\n",
       "    </tr>\n",
       "    <tr>\n",
       "      <th>Date</th>\n",
       "      <th></th>\n",
       "      <th></th>\n",
       "      <th></th>\n",
       "      <th></th>\n",
       "      <th></th>\n",
       "    </tr>\n",
       "  </thead>\n",
       "  <tbody>\n",
       "    <tr>\n",
       "      <th>2013-10-01</th>\n",
       "      <td>BTC</td>\n",
       "      <td>123.65499</td>\n",
       "      <td>124.30466</td>\n",
       "      <td>124.75166</td>\n",
       "      <td>122.56349</td>\n",
       "    </tr>\n",
       "    <tr>\n",
       "      <th>2013-10-02</th>\n",
       "      <td>BTC</td>\n",
       "      <td>125.45500</td>\n",
       "      <td>123.65499</td>\n",
       "      <td>125.75850</td>\n",
       "      <td>123.63383</td>\n",
       "    </tr>\n",
       "    <tr>\n",
       "      <th>2013-10-03</th>\n",
       "      <td>BTC</td>\n",
       "      <td>108.58483</td>\n",
       "      <td>125.45500</td>\n",
       "      <td>125.66566</td>\n",
       "      <td>83.32833</td>\n",
       "    </tr>\n",
       "    <tr>\n",
       "      <th>2013-10-04</th>\n",
       "      <td>BTC</td>\n",
       "      <td>118.67466</td>\n",
       "      <td>108.58483</td>\n",
       "      <td>118.67500</td>\n",
       "      <td>107.05816</td>\n",
       "    </tr>\n",
       "    <tr>\n",
       "      <th>2013-10-05</th>\n",
       "      <td>BTC</td>\n",
       "      <td>121.33866</td>\n",
       "      <td>118.67466</td>\n",
       "      <td>121.93633</td>\n",
       "      <td>118.00566</td>\n",
       "    </tr>\n",
       "  </tbody>\n",
       "</table>\n",
       "</div>"
      ],
      "text/plain": [
       "           Currency  Closing Price (USD)  24h Open (USD)  24h High (USD)  \\\n",
       "Date                                                                       \n",
       "2013-10-01      BTC            123.65499       124.30466       124.75166   \n",
       "2013-10-02      BTC            125.45500       123.65499       125.75850   \n",
       "2013-10-03      BTC            108.58483       125.45500       125.66566   \n",
       "2013-10-04      BTC            118.67466       108.58483       118.67500   \n",
       "2013-10-05      BTC            121.33866       118.67466       121.93633   \n",
       "\n",
       "            24h Low (USD)  \n",
       "Date                       \n",
       "2013-10-01      122.56349  \n",
       "2013-10-02      123.63383  \n",
       "2013-10-03       83.32833  \n",
       "2013-10-04      107.05816  \n",
       "2013-10-05      118.00566  "
      ]
     },
     "execution_count": 2,
     "metadata": {},
     "output_type": "execute_result"
    }
   ],
   "source": [
    "# Parse dates and set date column to index\n",
    "df = pd.read_csv(\"data/BTC_USD_2013-10-01_2021-12-08-CoinDesk.csv\",\n",
    "                 parse_dates=[\"Date\"],\n",
    "                 index_col=[\"Date\"]) # parse the date column (tell pandas column 1 is a datetime)\n",
    "df.head()"
   ]
  },
  {
   "cell_type": "code",
   "execution_count": 3,
   "id": "9da56f36",
   "metadata": {},
   "outputs": [
    {
     "name": "stdout",
     "output_type": "stream",
     "text": [
      "<class 'pandas.core.frame.DataFrame'>\n",
      "DatetimeIndex: 2987 entries, 2013-10-01 to 2021-12-08\n",
      "Data columns (total 5 columns):\n",
      " #   Column               Non-Null Count  Dtype  \n",
      "---  ------               --------------  -----  \n",
      " 0   Currency             2987 non-null   object \n",
      " 1   Closing Price (USD)  2987 non-null   float64\n",
      " 2   24h Open (USD)       2987 non-null   float64\n",
      " 3   24h High (USD)       2987 non-null   float64\n",
      " 4   24h Low (USD)        2987 non-null   float64\n",
      "dtypes: float64(4), object(1)\n",
      "memory usage: 140.0+ KB\n"
     ]
    }
   ],
   "source": [
    "df.info()"
   ]
  },
  {
   "cell_type": "code",
   "execution_count": 4,
   "id": "8436d71c",
   "metadata": {},
   "outputs": [
    {
     "data": {
      "text/plain": [
       "2987"
      ]
     },
     "execution_count": 4,
     "metadata": {},
     "output_type": "execute_result"
    }
   ],
   "source": [
    "len(df)"
   ]
  },
  {
   "cell_type": "markdown",
   "id": "e7cc7305",
   "metadata": {},
   "source": [
    "We've collected the historical price of Bitcoin for the past ~8 years but there's only 2787 total samples.\n",
    "Deep learning algorithms usually flourish with lots of data, in the range of thousands to millions of samples.\n",
    "\n",
    "In our case, we've got the daily prices of Bitcoin, a max of 365 samples per year.\n",
    "\n",
    "But that doesn't we can't try them with our data.\n",
    "\n",
    "To simplify, let's remove some of the columns from our data so we're only left with a date index and the closing price."
   ]
  },
  {
   "cell_type": "code",
   "execution_count": 5,
   "id": "63b06cde",
   "metadata": {},
   "outputs": [
    {
     "data": {
      "text/html": [
       "<div>\n",
       "<style scoped>\n",
       "    .dataframe tbody tr th:only-of-type {\n",
       "        vertical-align: middle;\n",
       "    }\n",
       "\n",
       "    .dataframe tbody tr th {\n",
       "        vertical-align: top;\n",
       "    }\n",
       "\n",
       "    .dataframe thead th {\n",
       "        text-align: right;\n",
       "    }\n",
       "</style>\n",
       "<table border=\"1\" class=\"dataframe\">\n",
       "  <thead>\n",
       "    <tr style=\"text-align: right;\">\n",
       "      <th></th>\n",
       "      <th>Price</th>\n",
       "    </tr>\n",
       "    <tr>\n",
       "      <th>Date</th>\n",
       "      <th></th>\n",
       "    </tr>\n",
       "  </thead>\n",
       "  <tbody>\n",
       "    <tr>\n",
       "      <th>2013-10-01</th>\n",
       "      <td>123.65499</td>\n",
       "    </tr>\n",
       "    <tr>\n",
       "      <th>2013-10-02</th>\n",
       "      <td>125.45500</td>\n",
       "    </tr>\n",
       "    <tr>\n",
       "      <th>2013-10-03</th>\n",
       "      <td>108.58483</td>\n",
       "    </tr>\n",
       "    <tr>\n",
       "      <th>2013-10-04</th>\n",
       "      <td>118.67466</td>\n",
       "    </tr>\n",
       "    <tr>\n",
       "      <th>2013-10-05</th>\n",
       "      <td>121.33866</td>\n",
       "    </tr>\n",
       "  </tbody>\n",
       "</table>\n",
       "</div>"
      ],
      "text/plain": [
       "                Price\n",
       "Date                 \n",
       "2013-10-01  123.65499\n",
       "2013-10-02  125.45500\n",
       "2013-10-03  108.58483\n",
       "2013-10-04  118.67466\n",
       "2013-10-05  121.33866"
      ]
     },
     "execution_count": 5,
     "metadata": {},
     "output_type": "execute_result"
    }
   ],
   "source": [
    "# Only want closing price for each day\n",
    "bitcoin_prices = pd.DataFrame(df[\"Closing Price (USD)\"]).rename(columns={\"Closing Price (USD)\" : \"Price\"})\n",
    "bitcoin_prices.head()"
   ]
  },
  {
   "cell_type": "code",
   "execution_count": 6,
   "id": "a2a0fbfc",
   "metadata": {},
   "outputs": [
    {
     "data": {
      "image/png": "[encoded data removed]",
      "text/plain": [
       "<Figure size 720x504 with 1 Axes>"
      ]
     },
     "metadata": {
      "needs_background": "light"
     },
     "output_type": "display_data"
    }
   ],
   "source": [
    "import matplotlib.pyplot as plt\n",
    "bitcoin_prices.plot(figsize=(10, 7))\n",
    "plt.ylabel(\"BTC Price\")\n",
    "plt.title(\"Price of Bitcoin from 1 Oct 2013 to 08 Dec 2021\", fontsize=16)\n",
    "plt.legend(fontsize=14);"
   ]
  },
  {
   "cell_type": "markdown",
   "id": "be84519c",
   "metadata": {},
   "source": [
    "#### Importing time series data with Python's CSV module\n",
    "If your time series data comes in CSV form you don't necessarily have to use `pandas`.\n",
    "\n",
    "You can use Python's in-built `csv` module.\n",
    "And if you're working with dates, you might also want to use Python's `datetime`."
   ]
  },
  {
   "cell_type": "code",
   "execution_count": 7,
   "id": "445fbd51",
   "metadata": {},
   "outputs": [
    {
     "data": {
      "text/plain": [
       "([datetime.datetime(2013, 10, 1, 0, 0),\n",
       "  datetime.datetime(2013, 10, 2, 0, 0),\n",
       "  datetime.datetime(2013, 10, 3, 0, 0),\n",
       "  datetime.datetime(2013, 10, 4, 0, 0),\n",
       "  datetime.datetime(2013, 10, 5, 0, 0),\n",
       "  datetime.datetime(2013, 10, 6, 0, 0),\n",
       "  datetime.datetime(2013, 10, 7, 0, 0),\n",
       "  datetime.datetime(2013, 10, 8, 0, 0),\n",
       "  datetime.datetime(2013, 10, 9, 0, 0),\n",
       "  datetime.datetime(2013, 10, 10, 0, 0)],\n",
       " [123.65499,\n",
       "  125.455,\n",
       "  108.58483,\n",
       "  118.67466,\n",
       "  121.33866,\n",
       "  120.65533,\n",
       "  121.795,\n",
       "  123.033,\n",
       "  124.049,\n",
       "  125.96116])"
      ]
     },
     "execution_count": 7,
     "metadata": {},
     "output_type": "execute_result"
    }
   ],
   "source": [
    "# Importing and formatting historical Bitcoin data with Python\n",
    "import csv\n",
    "from datetime import datetime\n",
    "\n",
    "timesteps = []\n",
    "btc_price = []\n",
    "with open(\"data/BTC_USD_2013-10-01_2021-12-08-CoinDesk.csv\", \"r\") as f:\n",
    "    csv_reader = csv.reader(f, delimiter=\",\") # read in the target CSV\n",
    "    next(csv_reader) # skip first line\n",
    "    for line in csv_reader:\n",
    "        timesteps.append(datetime.strptime(line[1], \"%Y-%m-%d\")) # get the dates as dates, not strings\n",
    "        btc_price.append(float(line[2])) # get closing price as float\n",
    "\n",
    "timesteps[:10], btc_price[:10]"
   ]
  },
  {
   "cell_type": "markdown",
   "id": "af868f6b",
   "metadata": {},
   "source": [
    "#### Create train & test sets for time series"
   ]
  },
  {
   "cell_type": "code",
   "execution_count": 8,
   "id": "d07fbcb8",
   "metadata": {},
   "outputs": [
    {
     "data": {
      "text/plain": [
       "(2389, 598, 2389, 598)"
      ]
     },
     "execution_count": 8,
     "metadata": {},
     "output_type": "execute_result"
    }
   ],
   "source": [
    "# Get bitcoin date array\n",
    "timesteps = bitcoin_prices.index.to_numpy()\n",
    "prices = bitcoin_prices[\"Price\"].to_numpy()\n",
    "\n",
    "# Create train and test splits the right way for time series data\n",
    "split_size = int(0.8 * len(prices)) # 80% train, 20% test\n",
    "\n",
    "# Create train data splits (everything before the split)\n",
    "X_train, y_train = timesteps[:split_size], prices[:split_size]\n",
    "\n",
    "# Create test data splits\n",
    "X_test, y_test = timesteps[split_size:], prices[split_size:]\n",
    "\n",
    "len(X_train), len(X_test), len(y_train), len(y_test)"
   ]
  },
  {
   "cell_type": "code",
   "execution_count": 9,
   "id": "1885b418",
   "metadata": {},
   "outputs": [
    {
     "data": {
      "image/png": "[encoded data removed]",
      "text/plain": [
       "<Figure size 720x504 with 1 Axes>"
      ]
     },
     "metadata": {
      "needs_background": "light"
     },
     "output_type": "display_data"
    }
   ],
   "source": [
    "# Plot splits\n",
    "plt.figure(figsize=(10, 7))\n",
    "plt.scatter(X_train, y_train, s=5, label=\"Train data\")\n",
    "plt.scatter(X_test, y_test, s=5, label=\"Test data\")\n",
    "plt.xlabel(\"Date\")\n",
    "plt.ylabel(\"BTC Price\")\n",
    "plt.legend(fontsize=14)\n",
    "plt.show();"
   ]
  },
  {
   "cell_type": "code",
   "execution_count": 10,
   "id": "24122ed8",
   "metadata": {},
   "outputs": [],
   "source": [
    "# Create a function to plot time series data\n",
    "def plot_time_series(timesteps, values, format=\".\", start=0, end=None, label=None):\n",
    "    # Plot the series\n",
    "    plt.plot(timesteps[start:end], values[start:end], format, label=label)\n",
    "    plt.xlabel(\"Time\")\n",
    "    plt.ylabel(\"BTC Price\")\n",
    "    if label:\n",
    "        plt.legend(fontsize=14)\n",
    "    plt.grid(True)"
   ]
  },
  {
   "cell_type": "markdown",
   "id": "2c61aa5c",
   "metadata": {},
   "source": [
    "#### Experiment: Make a multivariate time series\n",
    "Check if there is a positive correlation between halving and price.\n",
    "- add another feature column, the block reward size.\n",
    "- The following block rewards and dates were [sourced from cmcmarkets.com](https://www.cmcmarkets.com/en/learn-cryptocurrencies/bitcoin-halving)"
   ]
  },
  {
   "cell_type": "code",
   "execution_count": 11,
   "id": "9048a69a",
   "metadata": {},
   "outputs": [],
   "source": [
    "# Block reward values\n",
    "block_reward_1 = 50 # 3 January 2009 (2009-01-03) - this block reward isn't in our dataset (it starts from 01 October 2013)\n",
    "block_reward_2 = 25 # 28 November 2012 \n",
    "block_reward_3 = 12.5 # 9 July 2016\n",
    "block_reward_4 = 6.25 # 11 May 2020\n",
    "\n",
    "# Block reward dates (datetime form of the above date stamps)\n",
    "block_reward_2_datetime = np.datetime64(\"2012-11-28\")\n",
    "block_reward_3_datetime = np.datetime64(\"2016-07-09\")\n",
    "block_reward_4_datetime = np.datetime64(\"2020-05-11\")"
   ]
  },
  {
   "cell_type": "code",
   "execution_count": 12,
   "id": "d3d479e0",
   "metadata": {},
   "outputs": [
    {
     "data": {
      "text/plain": [
       "(1012, 2414)"
      ]
     },
     "execution_count": 12,
     "metadata": {},
     "output_type": "execute_result"
    }
   ],
   "source": [
    "# Get date indexes for when to add in different block dates\n",
    "block_reward_2_days = (block_reward_3_datetime - bitcoin_prices.index[0]).days\n",
    "block_reward_3_days = (block_reward_4_datetime - bitcoin_prices.index[0]).days\n",
    "block_reward_2_days, block_reward_3_days"
   ]
  },
  {
   "cell_type": "code",
   "execution_count": 13,
   "id": "00587b78",
   "metadata": {},
   "outputs": [
    {
     "data": {
      "text/html": [
       "<div>\n",
       "<style scoped>\n",
       "    .dataframe tbody tr th:only-of-type {\n",
       "        vertical-align: middle;\n",
       "    }\n",
       "\n",
       "    .dataframe tbody tr th {\n",
       "        vertical-align: top;\n",
       "    }\n",
       "\n",
       "    .dataframe thead th {\n",
       "        text-align: right;\n",
       "    }\n",
       "</style>\n",
       "<table border=\"1\" class=\"dataframe\">\n",
       "  <thead>\n",
       "    <tr style=\"text-align: right;\">\n",
       "      <th></th>\n",
       "      <th>Price</th>\n",
       "      <th>block_reward</th>\n",
       "    </tr>\n",
       "    <tr>\n",
       "      <th>Date</th>\n",
       "      <th></th>\n",
       "      <th></th>\n",
       "    </tr>\n",
       "  </thead>\n",
       "  <tbody>\n",
       "    <tr>\n",
       "      <th>2013-10-01</th>\n",
       "      <td>123.65499</td>\n",
       "      <td>25</td>\n",
       "    </tr>\n",
       "    <tr>\n",
       "      <th>2013-10-02</th>\n",
       "      <td>125.45500</td>\n",
       "      <td>25</td>\n",
       "    </tr>\n",
       "    <tr>\n",
       "      <th>2013-10-03</th>\n",
       "      <td>108.58483</td>\n",
       "      <td>25</td>\n",
       "    </tr>\n",
       "    <tr>\n",
       "      <th>2013-10-04</th>\n",
       "      <td>118.67466</td>\n",
       "      <td>25</td>\n",
       "    </tr>\n",
       "    <tr>\n",
       "      <th>2013-10-05</th>\n",
       "      <td>121.33866</td>\n",
       "      <td>25</td>\n",
       "    </tr>\n",
       "  </tbody>\n",
       "</table>\n",
       "</div>"
      ],
      "text/plain": [
       "                Price block_reward\n",
       "Date                              \n",
       "2013-10-01  123.65499           25\n",
       "2013-10-02  125.45500           25\n",
       "2013-10-03  108.58483           25\n",
       "2013-10-04  118.67466           25\n",
       "2013-10-05  121.33866           25"
      ]
     },
     "execution_count": 13,
     "metadata": {},
     "output_type": "execute_result"
    }
   ],
   "source": [
    "# Add block_reward column\n",
    "bitcoin_prices_block = bitcoin_prices.copy()\n",
    "bitcoin_prices_block[\"block_reward\"] = None\n",
    "\n",
    "# Set values of block_reward column (it's the last column hence -1 indexing on iloc)\n",
    "bitcoin_prices_block.iloc[:block_reward_2_days, -1] = block_reward_2\n",
    "bitcoin_prices_block.iloc[block_reward_2_days:block_reward_3_days, -1] = block_reward_3\n",
    "bitcoin_prices_block.iloc[block_reward_3_days:, -1] = block_reward_4\n",
    "bitcoin_prices_block.head()"
   ]
  },
  {
   "cell_type": "code",
   "execution_count": 14,
   "id": "bb51acd1",
   "metadata": {},
   "outputs": [
    {
     "data": {
      "image/png": "[encoded data removed]",
      "text/plain": [
       "<Figure size 720x504 with 1 Axes>"
      ]
     },
     "metadata": {
      "needs_background": "light"
     },
     "output_type": "display_data"
    }
   ],
   "source": [
    "# Plot the block reward/price over time\n",
    "# Note: Because of the different scales of our values we'll scale them to be between 0 and 1.\n",
    "from sklearn.preprocessing import minmax_scale\n",
    "scaled_price_block_df = pd.DataFrame(minmax_scale(bitcoin_prices_block[[\"Price\", \"block_reward\"]]),\n",
    "                                     columns=bitcoin_prices_block.columns,\n",
    "                                     index=bitcoin_prices_block.index)\n",
    "scaled_price_block_df.plot(figsize=(10, 7));"
   ]
  },
  {
   "cell_type": "markdown",
   "id": "a61ed4d6",
   "metadata": {},
   "source": [
    "#### Train a model on the full historical data to make predictions into future\n",
    "To make predictions into the future, we'll train a model on the full dataset and then get to make predictions to some future horizon."
   ]
  },
  {
   "cell_type": "code",
   "execution_count": 15,
   "id": "bfb05f2d",
   "metadata": {},
   "outputs": [
    {
     "data": {
      "text/html": [
       "<div>\n",
       "<style scoped>\n",
       "    .dataframe tbody tr th:only-of-type {\n",
       "        vertical-align: middle;\n",
       "    }\n",
       "\n",
       "    .dataframe tbody tr th {\n",
       "        vertical-align: top;\n",
       "    }\n",
       "\n",
       "    .dataframe thead th {\n",
       "        text-align: right;\n",
       "    }\n",
       "</style>\n",
       "<table border=\"1\" class=\"dataframe\">\n",
       "  <thead>\n",
       "    <tr style=\"text-align: right;\">\n",
       "      <th></th>\n",
       "      <th>Price</th>\n",
       "      <th>block_reward</th>\n",
       "      <th>Price+1</th>\n",
       "      <th>Price+2</th>\n",
       "      <th>Price+3</th>\n",
       "      <th>Price+4</th>\n",
       "      <th>Price+5</th>\n",
       "      <th>Price+6</th>\n",
       "      <th>Price+7</th>\n",
       "    </tr>\n",
       "    <tr>\n",
       "      <th>Date</th>\n",
       "      <th></th>\n",
       "      <th></th>\n",
       "      <th></th>\n",
       "      <th></th>\n",
       "      <th></th>\n",
       "      <th></th>\n",
       "      <th></th>\n",
       "      <th></th>\n",
       "      <th></th>\n",
       "    </tr>\n",
       "  </thead>\n",
       "  <tbody>\n",
       "    <tr>\n",
       "      <th>2013-10-01</th>\n",
       "      <td>123.65499</td>\n",
       "      <td>25</td>\n",
       "      <td>NaN</td>\n",
       "      <td>NaN</td>\n",
       "      <td>NaN</td>\n",
       "      <td>NaN</td>\n",
       "      <td>NaN</td>\n",
       "      <td>NaN</td>\n",
       "      <td>NaN</td>\n",
       "    </tr>\n",
       "    <tr>\n",
       "      <th>2013-10-02</th>\n",
       "      <td>125.45500</td>\n",
       "      <td>25</td>\n",
       "      <td>123.65499</td>\n",
       "      <td>NaN</td>\n",
       "      <td>NaN</td>\n",
       "      <td>NaN</td>\n",
       "      <td>NaN</td>\n",
       "      <td>NaN</td>\n",
       "      <td>NaN</td>\n",
       "    </tr>\n",
       "    <tr>\n",
       "      <th>2013-10-03</th>\n",
       "      <td>108.58483</td>\n",
       "      <td>25</td>\n",
       "      <td>125.45500</td>\n",
       "      <td>123.65499</td>\n",
       "      <td>NaN</td>\n",
       "      <td>NaN</td>\n",
       "      <td>NaN</td>\n",
       "      <td>NaN</td>\n",
       "      <td>NaN</td>\n",
       "    </tr>\n",
       "    <tr>\n",
       "      <th>2013-10-04</th>\n",
       "      <td>118.67466</td>\n",
       "      <td>25</td>\n",
       "      <td>108.58483</td>\n",
       "      <td>125.45500</td>\n",
       "      <td>123.65499</td>\n",
       "      <td>NaN</td>\n",
       "      <td>NaN</td>\n",
       "      <td>NaN</td>\n",
       "      <td>NaN</td>\n",
       "    </tr>\n",
       "    <tr>\n",
       "      <th>2013-10-05</th>\n",
       "      <td>121.33866</td>\n",
       "      <td>25</td>\n",
       "      <td>118.67466</td>\n",
       "      <td>108.58483</td>\n",
       "      <td>125.45500</td>\n",
       "      <td>123.65499</td>\n",
       "      <td>NaN</td>\n",
       "      <td>NaN</td>\n",
       "      <td>NaN</td>\n",
       "    </tr>\n",
       "    <tr>\n",
       "      <th>2013-10-06</th>\n",
       "      <td>120.65533</td>\n",
       "      <td>25</td>\n",
       "      <td>121.33866</td>\n",
       "      <td>118.67466</td>\n",
       "      <td>108.58483</td>\n",
       "      <td>125.45500</td>\n",
       "      <td>123.65499</td>\n",
       "      <td>NaN</td>\n",
       "      <td>NaN</td>\n",
       "    </tr>\n",
       "    <tr>\n",
       "      <th>2013-10-07</th>\n",
       "      <td>121.79500</td>\n",
       "      <td>25</td>\n",
       "      <td>120.65533</td>\n",
       "      <td>121.33866</td>\n",
       "      <td>118.67466</td>\n",
       "      <td>108.58483</td>\n",
       "      <td>125.45500</td>\n",
       "      <td>123.65499</td>\n",
       "      <td>NaN</td>\n",
       "    </tr>\n",
       "    <tr>\n",
       "      <th>2013-10-08</th>\n",
       "      <td>123.03300</td>\n",
       "      <td>25</td>\n",
       "      <td>121.79500</td>\n",
       "      <td>120.65533</td>\n",
       "      <td>121.33866</td>\n",
       "      <td>118.67466</td>\n",
       "      <td>108.58483</td>\n",
       "      <td>125.45500</td>\n",
       "      <td>123.65499</td>\n",
       "    </tr>\n",
       "    <tr>\n",
       "      <th>2013-10-09</th>\n",
       "      <td>124.04900</td>\n",
       "      <td>25</td>\n",
       "      <td>123.03300</td>\n",
       "      <td>121.79500</td>\n",
       "      <td>120.65533</td>\n",
       "      <td>121.33866</td>\n",
       "      <td>118.67466</td>\n",
       "      <td>108.58483</td>\n",
       "      <td>125.45500</td>\n",
       "    </tr>\n",
       "    <tr>\n",
       "      <th>2013-10-10</th>\n",
       "      <td>125.96116</td>\n",
       "      <td>25</td>\n",
       "      <td>124.04900</td>\n",
       "      <td>123.03300</td>\n",
       "      <td>121.79500</td>\n",
       "      <td>120.65533</td>\n",
       "      <td>121.33866</td>\n",
       "      <td>118.67466</td>\n",
       "      <td>108.58483</td>\n",
       "    </tr>\n",
       "  </tbody>\n",
       "</table>\n",
       "</div>"
      ],
      "text/plain": [
       "                Price block_reward    Price+1    Price+2    Price+3  \\\n",
       "Date                                                                  \n",
       "2013-10-01  123.65499           25        NaN        NaN        NaN   \n",
       "2013-10-02  125.45500           25  123.65499        NaN        NaN   \n",
       "2013-10-03  108.58483           25  125.45500  123.65499        NaN   \n",
       "2013-10-04  118.67466           25  108.58483  125.45500  123.65499   \n",
       "2013-10-05  121.33866           25  118.67466  108.58483  125.45500   \n",
       "2013-10-06  120.65533           25  121.33866  118.67466  108.58483   \n",
       "2013-10-07  121.79500           25  120.65533  121.33866  118.67466   \n",
       "2013-10-08  123.03300           25  121.79500  120.65533  121.33866   \n",
       "2013-10-09  124.04900           25  123.03300  121.79500  120.65533   \n",
       "2013-10-10  125.96116           25  124.04900  123.03300  121.79500   \n",
       "\n",
       "              Price+4    Price+5    Price+6    Price+7  \n",
       "Date                                                    \n",
       "2013-10-01        NaN        NaN        NaN        NaN  \n",
       "2013-10-02        NaN        NaN        NaN        NaN  \n",
       "2013-10-03        NaN        NaN        NaN        NaN  \n",
       "2013-10-04        NaN        NaN        NaN        NaN  \n",
       "2013-10-05  123.65499        NaN        NaN        NaN  \n",
       "2013-10-06  125.45500  123.65499        NaN        NaN  \n",
       "2013-10-07  108.58483  125.45500  123.65499        NaN  \n",
       "2013-10-08  118.67466  108.58483  125.45500  123.65499  \n",
       "2013-10-09  121.33866  118.67466  108.58483  125.45500  \n",
       "2013-10-10  120.65533  121.33866  118.67466  108.58483  "
      ]
     },
     "execution_count": 15,
     "metadata": {},
     "output_type": "execute_result"
    }
   ],
   "source": [
    "# Making a windowed dataset with pandas\n",
    "# Setup dataset hyperparameters\n",
    "HORIZON = 1\n",
    "WINDOW_SIZE = 7\n",
    "\n",
    "# Make a copy of the Bitcoin historical data with block reward feature\n",
    "bitcoin_prices_windowed = bitcoin_prices_block.copy()\n",
    "\n",
    "# Add windowed columns\n",
    "for i in range(WINDOW_SIZE): # Shift values for each step in WINDOW_SIZE\n",
    "    bitcoin_prices_windowed[f\"Price+{i+1}\"] = bitcoin_prices_windowed[\"Price\"].shift(periods=i+1)\n",
    "bitcoin_prices_windowed.head(10)"
   ]
  },
  {
   "cell_type": "code",
   "execution_count": 16,
   "id": "bf23beda",
   "metadata": {},
   "outputs": [],
   "source": [
    "# Train model on entire data to make prediction for the next day \n",
    "X_all = bitcoin_prices_windowed.drop([\"Price\", \"block_reward\"], axis=1).dropna().to_numpy() # only want prices, our future model can be a univariate model\n",
    "y_all = bitcoin_prices_windowed.dropna()[\"Price\"].to_numpy()"
   ]
  },
  {
   "cell_type": "code",
   "execution_count": 17,
   "id": "07105dba",
   "metadata": {},
   "outputs": [
    {
     "data": {
      "text/plain": [
       "(2980, 2980)"
      ]
     },
     "execution_count": 17,
     "metadata": {},
     "output_type": "execute_result"
    }
   ],
   "source": [
    "len(X_all), len(y_all)"
   ]
  },
  {
   "cell_type": "markdown",
   "id": "01440f3b",
   "metadata": {},
   "source": [
    "Windows and labels ready.\n",
    "Let's turn them into performance optimized TensorFlow Datasets by:\n",
    "\n",
    "- Turning `X_all` and `y_all` into tensor Datasets using `tf.data.Dataset.from_tensor_slices()`\n",
    "- Combining the features and labels into a Dataset tuple using `tf.data.Dataset.zip()`\n",
    "- Batch and prefetch the data using `tf.data.Dataset.batch()` and `tf.data.Dataset.prefetch()` respectively."
   ]
  },
  {
   "cell_type": "code",
   "execution_count": 18,
   "id": "af475b6a",
   "metadata": {},
   "outputs": [
    {
     "data": {
      "text/plain": [
       "<PrefetchDataset shapes: ((None, 7), (None,)), types: (tf.float64, tf.float64)>"
      ]
     },
     "execution_count": 18,
     "metadata": {},
     "output_type": "execute_result"
    }
   ],
   "source": [
    "# 1. Turn X and y into tensor Datasets\n",
    "features_dataset_all = tf.data.Dataset.from_tensor_slices(X_all)\n",
    "labels_dataset_all = tf.data.Dataset.from_tensor_slices(y_all)\n",
    "\n",
    "# 2. Combine features & labels\n",
    "dataset_all = tf.data.Dataset.zip((features_dataset_all, labels_dataset_all))\n",
    "\n",
    "# 3. Batch and prefetch for optimal performance\n",
    "BATCH_SIZE = 1024\n",
    "dataset_all = dataset_all.batch(BATCH_SIZE).prefetch(tf.data.AUTOTUNE)\n",
    "\n",
    "dataset_all"
   ]
  },
  {
   "cell_type": "code",
   "execution_count": 19,
   "id": "1dca4719",
   "metadata": {},
   "outputs": [
    {
     "name": "stdout",
     "output_type": "stream",
     "text": [
      "Epoch 1/100\n",
      "3/3 [==============================] - 1s 2ms/step - loss: 5935.5142\n",
      "Epoch 2/100\n",
      "3/3 [==============================] - 0s 2ms/step - loss: 3223.6584\n",
      "Epoch 3/100\n",
      "3/3 [==============================] - 0s 1ms/step - loss: 656.0505\n",
      "Epoch 4/100\n",
      "3/3 [==============================] - 0s 2ms/step - loss: 2038.5154\n",
      "Epoch 5/100\n",
      "3/3 [==============================] - 0s 2ms/step - loss: 2188.4561\n",
      "Epoch 6/100\n",
      "3/3 [==============================] - 0s 2ms/step - loss: 1212.6595\n",
      "Epoch 7/100\n",
      "3/3 [==============================] - 0s 2ms/step - loss: 559.5679\n",
      "Epoch 8/100\n",
      "3/3 [==============================] - 0s 2ms/step - loss: 1010.3349\n",
      "Epoch 9/100\n",
      "3/3 [==============================] - 0s 2ms/step - loss: 813.5450\n",
      "Epoch 10/100\n",
      "3/3 [==============================] - 0s 2ms/step - loss: 465.6909\n",
      "Epoch 11/100\n",
      "3/3 [==============================] - 0s 2ms/step - loss: 677.9666\n",
      "Epoch 12/100\n",
      "3/3 [==============================] - 0s 2ms/step - loss: 554.1999\n",
      "Epoch 13/100\n",
      "3/3 [==============================] - 0s 2ms/step - loss: 499.6082\n",
      "Epoch 14/100\n",
      "3/3 [==============================] - 0s 2ms/step - loss: 548.5820\n",
      "Epoch 15/100\n",
      "3/3 [==============================] - 0s 2ms/step - loss: 449.1322\n",
      "Epoch 16/100\n",
      "3/3 [==============================] - 0s 2ms/step - loss: 502.2971\n",
      "Epoch 17/100\n",
      "3/3 [==============================] - 0s 2ms/step - loss: 450.2684\n",
      "Epoch 18/100\n",
      "3/3 [==============================] - 0s 2ms/step - loss: 476.6431\n",
      "Epoch 19/100\n",
      "3/3 [==============================] - 0s 2ms/step - loss: 445.2230\n",
      "Epoch 20/100\n",
      "3/3 [==============================] - 0s 2ms/step - loss: 458.1901\n",
      "Epoch 21/100\n",
      "3/3 [==============================] - 0s 1ms/step - loss: 436.4034\n",
      "Epoch 22/100\n",
      "3/3 [==============================] - 0s 1ms/step - loss: 451.0202\n",
      "Epoch 23/100\n",
      "3/3 [==============================] - 0s 2ms/step - loss: 424.4964\n",
      "Epoch 24/100\n",
      "3/3 [==============================] - 0s 1ms/step - loss: 434.9250\n",
      "Epoch 25/100\n",
      "3/3 [==============================] - 0s 2ms/step - loss: 420.3075\n",
      "Epoch 26/100\n",
      "3/3 [==============================] - 0s 2ms/step - loss: 418.1805\n",
      "Epoch 27/100\n",
      "3/3 [==============================] - 0s 1ms/step - loss: 419.7570\n",
      "Epoch 28/100\n",
      "3/3 [==============================] - 0s 1ms/step - loss: 411.4091\n",
      "Epoch 29/100\n",
      "3/3 [==============================] - 0s 2ms/step - loss: 407.8762\n",
      "Epoch 30/100\n",
      "3/3 [==============================] - 0s 2ms/step - loss: 407.5106\n",
      "Epoch 31/100\n",
      "3/3 [==============================] - 0s 2ms/step - loss: 407.4227\n",
      "Epoch 32/100\n",
      "3/3 [==============================] - 0s 2ms/step - loss: 401.1591\n",
      "Epoch 33/100\n",
      "3/3 [==============================] - 0s 3ms/step - loss: 398.5440\n",
      "Epoch 34/100\n",
      "3/3 [==============================] - 0s 2ms/step - loss: 397.2032\n",
      "Epoch 35/100\n",
      "3/3 [==============================] - 0s 2ms/step - loss: 394.6087\n",
      "Epoch 36/100\n",
      "3/3 [==============================] - 0s 2ms/step - loss: 392.8679\n",
      "Epoch 37/100\n",
      "3/3 [==============================] - 0s 2ms/step - loss: 390.6336\n",
      "Epoch 38/100\n",
      "3/3 [==============================] - 0s 1ms/step - loss: 388.9376\n",
      "Epoch 39/100\n",
      "3/3 [==============================] - 0s 2ms/step - loss: 387.1726\n",
      "Epoch 40/100\n",
      "3/3 [==============================] - 0s 2ms/step - loss: 385.2438\n",
      "Epoch 41/100\n",
      "3/3 [==============================] - 0s 2ms/step - loss: 383.5046\n",
      "Epoch 42/100\n",
      "3/3 [==============================] - 0s 2ms/step - loss: 381.6362\n",
      "Epoch 43/100\n",
      "3/3 [==============================] - 0s 2ms/step - loss: 380.0822\n",
      "Epoch 44/100\n",
      "3/3 [==============================] - 0s 2ms/step - loss: 378.3972\n",
      "Epoch 45/100\n",
      "3/3 [==============================] - 0s 1ms/step - loss: 376.9227\n",
      "Epoch 46/100\n",
      "3/3 [==============================] - 0s 2ms/step - loss: 374.8313\n",
      "Epoch 47/100\n",
      "3/3 [==============================] - 0s 1ms/step - loss: 373.3351\n",
      "Epoch 48/100\n",
      "3/3 [==============================] - 0s 2ms/step - loss: 371.5078\n",
      "Epoch 49/100\n",
      "3/3 [==============================] - 0s 2ms/step - loss: 370.3451\n",
      "Epoch 50/100\n",
      "3/3 [==============================] - 0s 2ms/step - loss: 367.9454\n",
      "Epoch 51/100\n",
      "3/3 [==============================] - 0s 2ms/step - loss: 366.3972\n",
      "Epoch 52/100\n",
      "3/3 [==============================] - 0s 2ms/step - loss: 364.4083\n",
      "Epoch 53/100\n",
      "3/3 [==============================] - 0s 2ms/step - loss: 362.6753\n",
      "Epoch 54/100\n",
      "3/3 [==============================] - 0s 2ms/step - loss: 360.9717\n",
      "Epoch 55/100\n",
      "3/3 [==============================] - 0s 2ms/step - loss: 359.1074\n",
      "Epoch 56/100\n",
      "3/3 [==============================] - 0s 2ms/step - loss: 357.2920\n",
      "Epoch 57/100\n",
      "3/3 [==============================] - 0s 1ms/step - loss: 355.4508\n",
      "Epoch 58/100\n",
      "3/3 [==============================] - 0s 1ms/step - loss: 353.6128\n",
      "Epoch 59/100\n",
      "3/3 [==============================] - 0s 1ms/step - loss: 351.7259\n",
      "Epoch 60/100\n",
      "3/3 [==============================] - 0s 1ms/step - loss: 349.9759\n",
      "Epoch 61/100\n",
      "3/3 [==============================] - 0s 2ms/step - loss: 348.1123\n",
      "Epoch 62/100\n",
      "3/3 [==============================] - 0s 1ms/step - loss: 346.3285\n",
      "Epoch 63/100\n",
      "3/3 [==============================] - 0s 1ms/step - loss: 344.4724\n",
      "Epoch 64/100\n",
      "3/3 [==============================] - 0s 1ms/step - loss: 343.1454\n",
      "Epoch 65/100\n",
      "3/3 [==============================] - 0s 1ms/step - loss: 344.2287\n",
      "Epoch 66/100\n",
      "3/3 [==============================] - 0s 1ms/step - loss: 358.1385\n",
      "Epoch 67/100\n",
      "3/3 [==============================] - 0s 1ms/step - loss: 448.6102\n",
      "Epoch 68/100\n",
      "3/3 [==============================] - 0s 1ms/step - loss: 645.4307\n",
      "Epoch 69/100\n",
      "3/3 [==============================] - 0s 1ms/step - loss: 441.3398\n",
      "Epoch 70/100\n",
      "3/3 [==============================] - 0s 1ms/step - loss: 352.2462\n",
      "Epoch 71/100\n",
      "3/3 [==============================] - 0s 1ms/step - loss: 335.4729\n",
      "Epoch 72/100\n",
      "3/3 [==============================] - 0s 1ms/step - loss: 353.8342\n",
      "Epoch 73/100\n",
      "3/3 [==============================] - 0s 1ms/step - loss: 414.9395\n",
      "Epoch 74/100\n",
      "3/3 [==============================] - 0s 1ms/step - loss: 437.5927\n",
      "Epoch 75/100\n",
      "3/3 [==============================] - 0s 1ms/step - loss: 427.4481\n",
      "Epoch 76/100\n",
      "3/3 [==============================] - 0s 1ms/step - loss: 382.4170\n",
      "Epoch 77/100\n",
      "3/3 [==============================] - 0s 1ms/step - loss: 367.0183\n",
      "Epoch 78/100\n",
      "3/3 [==============================] - 0s 1ms/step - loss: 353.3955\n",
      "Epoch 79/100\n",
      "3/3 [==============================] - 0s 1ms/step - loss: 355.9727\n",
      "Epoch 80/100\n",
      "3/3 [==============================] - 0s 1ms/step - loss: 358.2044\n",
      "Epoch 81/100\n",
      "3/3 [==============================] - 0s 1ms/step - loss: 375.3669\n",
      "Epoch 82/100\n",
      "3/3 [==============================] - 0s 1ms/step - loss: 383.4785\n",
      "Epoch 83/100\n",
      "3/3 [==============================] - 0s 1ms/step - loss: 401.1820\n",
      "Epoch 84/100\n",
      "3/3 [==============================] - 0s 1ms/step - loss: 368.0769\n",
      "Epoch 85/100\n",
      "3/3 [==============================] - 0s 1ms/step - loss: 361.9878\n",
      "Epoch 86/100\n",
      "3/3 [==============================] - 0s 1ms/step - loss: 351.8112\n",
      "Epoch 87/100\n",
      "3/3 [==============================] - 0s 1ms/step - loss: 352.3969\n",
      "Epoch 88/100\n",
      "3/3 [==============================] - 0s 1ms/step - loss: 358.0894\n",
      "Epoch 89/100\n",
      "3/3 [==============================] - 0s 1ms/step - loss: 384.9846\n",
      "Epoch 90/100\n",
      "3/3 [==============================] - 0s 1ms/step - loss: 380.0757\n",
      "Epoch 91/100\n",
      "3/3 [==============================] - 0s 1ms/step - loss: 384.6208\n",
      "Epoch 92/100\n",
      "3/3 [==============================] - 0s 1ms/step - loss: 358.7343\n",
      "Epoch 93/100\n",
      "3/3 [==============================] - 0s 1ms/step - loss: 360.8666\n",
      "Epoch 94/100\n",
      "3/3 [==============================] - 0s 1ms/step - loss: 360.3745\n",
      "Epoch 95/100\n",
      "3/3 [==============================] - 0s 1ms/step - loss: 377.7581\n",
      "Epoch 96/100\n",
      "3/3 [==============================] - 0s 1ms/step - loss: 365.3232\n",
      "Epoch 97/100\n",
      "3/3 [==============================] - 0s 1ms/step - loss: 366.5569\n",
      "Epoch 98/100\n",
      "3/3 [==============================] - 0s 1ms/step - loss: 350.7277\n",
      "Epoch 99/100\n",
      "3/3 [==============================] - 0s 1ms/step - loss: 350.3874\n",
      "Epoch 100/100\n",
      "3/3 [==============================] - 0s 1ms/step - loss: 348.3021\n"
     ]
    }
   ],
   "source": [
    "from tensorflow.keras import layers\n",
    "tf.random.set_seed(42)\n",
    "\n",
    "# Create model (nice and simple, just to test)\n",
    "model_full = tf.keras.Sequential([\n",
    "    layers.Dense(128, activation=\"relu\"),\n",
    "    layers.Dense(128, activation=\"relu\"),\n",
    "    layers.Dense(HORIZON)\n",
    "])\n",
    "\n",
    "# Compile the model\n",
    "model_full.compile(loss=tf.keras.losses.mae,\n",
    "                optimizer=tf.keras.optimizers.Adam())\n",
    "\n",
    "# Fit model on all of the data to make future forecasts\n",
    "history = model_full.fit(dataset_all,\n",
    "            epochs=100,\n",
    "            verbose=1)"
   ]
  },
  {
   "cell_type": "markdown",
   "id": "71c771c8",
   "metadata": {},
   "source": [
    "#### Make predictions on the future\n",
    "Let's predict the future =)\n",
    "To do so, let's start by defining a variable `INTO_FUTURE` which decides how many timesteps we'd like to predict into the future."
   ]
  },
  {
   "cell_type": "code",
   "execution_count": 20,
   "id": "7d652461",
   "metadata": {},
   "outputs": [],
   "source": [
    "# How many timesteps to predict into the future?\n",
    "INTO_FUTURE = 14 # our Bitcoin data is daily, this is for 14 days"
   ]
  },
  {
   "cell_type": "code",
   "execution_count": 21,
   "id": "cebffdd4",
   "metadata": {},
   "outputs": [],
   "source": [
    "# 1. Create function to make predictions into the future\n",
    "def make_future_forecast(values, model, into_future, window_size=WINDOW_SIZE) -> list:\n",
    "    \n",
    "    # 2. Make an empty list for future forecasts/prepare data to forecast on\n",
    "    future_forecast = []\n",
    "    last_window = values[-WINDOW_SIZE:] # only want preds from the last window (this will get updated)\n",
    "\n",
    "    # 3. Make INTO_FUTURE number of predictions, altering the data which gets predicted on each time \n",
    "    for _ in range(into_future):\n",
    "    \n",
    "        # Predict on last window then append it again, again, again (model starts to make forecasts on its own forecasts)\n",
    "        future_pred = model.predict(tf.expand_dims(last_window, axis=0))\n",
    "        print(f\"Predicting on: \\n {last_window} -> Prediction: {tf.squeeze(future_pred).numpy()}\\n\")\n",
    "    \n",
    "        # Append predictions to future_forecast\n",
    "        future_forecast.append(tf.squeeze(future_pred).numpy())\n",
    "\n",
    "        # Update last window with new pred and get WINDOW_SIZE most recent preds (model was trained on WINDOW_SIZE windows)\n",
    "        last_window = np.append(last_window, future_pred)[-WINDOW_SIZE:]\n",
    "  \n",
    "    return future_forecast"
   ]
  },
  {
   "cell_type": "code",
   "execution_count": 22,
   "id": "ae66fc1b",
   "metadata": {},
   "outputs": [
    {
     "name": "stdout",
     "output_type": "stream",
     "text": [
      "Predicting on: \n",
      " [56524.829562 53694.69     49266.12     49455.282036 50564.3\n",
      " 50638.162863 50512.038512] -> Prediction: 54807.9140625\n",
      "\n",
      "Predicting on: \n",
      " [53694.69      49266.12      49455.282036  50564.3       50638.162863\n",
      " 50512.038512  54807.9140625] -> Prediction: 51442.90234375\n",
      "\n",
      "Predicting on: \n",
      " [49266.12       49455.282036   50564.3        50638.162863\n",
      " 50512.038512   54807.9140625  51442.90234375] -> Prediction: 49190.39453125\n",
      "\n",
      "Predicting on: \n",
      " [49455.282036   50564.3        50638.162863   50512.038512\n",
      " 54807.9140625  51442.90234375 49190.39453125] -> Prediction: 50761.16015625\n",
      "\n",
      "Predicting on: \n",
      " [50564.3        50638.162863   50512.038512   54807.9140625\n",
      " 51442.90234375 49190.39453125 50761.16015625] -> Prediction: 51781.76171875\n",
      "\n",
      "Predicting on: \n",
      " [50638.162863   50512.038512   54807.9140625  51442.90234375\n",
      " 49190.39453125 50761.16015625 51781.76171875] -> Prediction: 50853.00390625\n",
      "\n",
      "Predicting on: \n",
      " [50512.038512   54807.9140625  51442.90234375 49190.39453125\n",
      " 50761.16015625 51781.76171875 50853.00390625] -> Prediction: 52339.35546875\n",
      "\n",
      "Predicting on: \n",
      " [54807.9140625  51442.90234375 49190.39453125 50761.16015625\n",
      " 51781.76171875 50853.00390625 52339.35546875] -> Prediction: 53206.57421875\n",
      "\n",
      "Predicting on: \n",
      " [51442.90234375 49190.39453125 50761.16015625 51781.76171875\n",
      " 50853.00390625 52339.35546875 53206.57421875] -> Prediction: 50487.9453125\n",
      "\n",
      "Predicting on: \n",
      " [49190.39453125 50761.16015625 51781.76171875 50853.00390625\n",
      " 52339.35546875 53206.57421875 50487.9453125 ] -> Prediction: 50235.14453125\n",
      "\n",
      "Predicting on: \n",
      " [50761.16015625 51781.76171875 50853.00390625 52339.35546875\n",
      " 53206.57421875 50487.9453125  50235.14453125] -> Prediction: 52061.03125\n",
      "\n",
      "Predicting on: \n",
      " [51781.76171875 50853.00390625 52339.35546875 53206.57421875\n",
      " 50487.9453125  50235.14453125 52061.03125   ] -> Prediction: 51925.40234375\n",
      "\n",
      "Predicting on: \n",
      " [50853.00390625 52339.35546875 53206.57421875 50487.9453125\n",
      " 50235.14453125 52061.03125    51925.40234375] -> Prediction: 51506.76953125\n",
      "\n",
      "Predicting on: \n",
      " [52339.35546875 53206.57421875 50487.9453125  50235.14453125\n",
      " 52061.03125    51925.40234375 51506.76953125] -> Prediction: 52723.35546875\n",
      "\n"
     ]
    }
   ],
   "source": [
    "# Make forecasts into future of the price of Bitcoin\n",
    "# Note: if you're reading this at a later date, you may already be in the future, so the forecasts \n",
    "# we're making may not actually be forecasts, if that's the case, readjust the training data.\n",
    "future_forecast = make_future_forecast(values=y_all,\n",
    "                                       model=model_full,\n",
    "                                       into_future=INTO_FUTURE,\n",
    "                                       window_size=WINDOW_SIZE)"
   ]
  },
  {
   "cell_type": "code",
   "execution_count": 23,
   "id": "ca45ac8c",
   "metadata": {},
   "outputs": [
    {
     "data": {
      "text/plain": [
       "[54807.914,\n",
       " 51442.902,\n",
       " 49190.395,\n",
       " 50761.16,\n",
       " 51781.76,\n",
       " 50853.004,\n",
       " 52339.355,\n",
       " 53206.574,\n",
       " 50487.945,\n",
       " 50235.145]"
      ]
     },
     "execution_count": 23,
     "metadata": {},
     "output_type": "execute_result"
    }
   ],
   "source": [
    "future_forecast[:10]"
   ]
  },
  {
   "cell_type": "code",
   "execution_count": 24,
   "id": "17b936a5",
   "metadata": {},
   "outputs": [],
   "source": [
    "def get_future_dates(start_date, into_future, offset=1):\n",
    "    start_date = start_date + np.timedelta64(offset, \"D\") # specify start date, \"D\" stands for day\n",
    "    end_date = start_date + np.timedelta64(into_future, \"D\") # specify end date\n",
    "    return np.arange(start_date, end_date, dtype=\"datetime64[D]\") # return a date range between start date and end date"
   ]
  },
  {
   "cell_type": "code",
   "execution_count": 25,
   "id": "703cf36f",
   "metadata": {},
   "outputs": [
    {
     "data": {
      "text/plain": [
       "Timestamp('2021-12-08 00:00:00')"
      ]
     },
     "execution_count": 25,
     "metadata": {},
     "output_type": "execute_result"
    }
   ],
   "source": [
    "# Last timestep of timesteps (currently in np.datetime64 format)\n",
    "last_timestep = bitcoin_prices.index[-1]\n",
    "last_timestep"
   ]
  },
  {
   "cell_type": "code",
   "execution_count": 26,
   "id": "5d95b9a7",
   "metadata": {},
   "outputs": [
    {
     "data": {
      "text/plain": [
       "array(['2021-12-09', '2021-12-10', '2021-12-11', '2021-12-12',\n",
       "       '2021-12-13', '2021-12-14', '2021-12-15', '2021-12-16',\n",
       "       '2021-12-17', '2021-12-18', '2021-12-19', '2021-12-20',\n",
       "       '2021-12-21', '2021-12-22'], dtype='datetime64[D]')"
      ]
     },
     "execution_count": 26,
     "metadata": {},
     "output_type": "execute_result"
    }
   ],
   "source": [
    "# Get next two weeks of timesteps\n",
    "next_time_steps = get_future_dates(start_date=last_timestep, \n",
    "                                   into_future=INTO_FUTURE)\n",
    "next_time_steps"
   ]
  },
  {
   "cell_type": "code",
   "execution_count": 27,
   "id": "91e7dc07",
   "metadata": {},
   "outputs": [
    {
     "data": {
      "text/plain": [
       "(array(['2021-12-08', '2021-12-09', '2021-12-10', '2021-12-11',\n",
       "        '2021-12-12', '2021-12-13', '2021-12-14', '2021-12-15',\n",
       "        '2021-12-16', '2021-12-17', '2021-12-18', '2021-12-19',\n",
       "        '2021-12-20', '2021-12-21', '2021-12-22'], dtype='datetime64[D]'),\n",
       " array([50512.04 , 54807.914, 51442.902, 49190.395, 50761.16 , 51781.76 ,\n",
       "        50853.004, 52339.355, 53206.574, 50487.945, 50235.145, 52061.03 ,\n",
       "        51925.402, 51506.77 , 52723.355], dtype=float32))"
      ]
     },
     "execution_count": 27,
     "metadata": {},
     "output_type": "execute_result"
    }
   ],
   "source": [
    "# Insert last timestep/final price so the graph doesn't look messed\n",
    "next_time_steps = np.insert(next_time_steps, 0, last_timestep)\n",
    "future_forecast = np.insert(future_forecast, 0, btc_price[-1])\n",
    "next_time_steps, future_forecast"
   ]
  },
  {
   "cell_type": "code",
   "execution_count": 28,
   "id": "0f0d2700",
   "metadata": {},
   "outputs": [
    {
     "data": {
      "image/png": "[encoded data removed]",
      "text/plain": [
       "<Figure size 720x504 with 1 Axes>"
      ]
     },
     "metadata": {
      "needs_background": "light"
     },
     "output_type": "display_data"
    }
   ],
   "source": [
    "# Plot future price predictions of Bitcoin\n",
    "plt.figure(figsize=(10, 7))\n",
    "plot_time_series(bitcoin_prices.index, btc_price, start=2800, format=\"-\", label=\"Actual BTC Price\")\n",
    "plot_time_series(next_time_steps, future_forecast, format=\"-\", label=\"Predicted BTC Price\")"
   ]
  },
  {
   "cell_type": "markdown",
   "id": "3299551d",
   "metadata": {},
   "source": [
    "#### Note:\n",
    "By the time you read this, the future might have already happened, if so, how did the model go?\n",
    "\n",
    "> ⚠️ A reminder, the predictions here are not financial advice."
   ]
  },
  {
   "cell_type": "code",
   "execution_count": null,
   "id": "22e0bc43",
   "metadata": {},
   "outputs": [],
   "source": []
  }
 ],
 "metadata": {
  "kernelspec": {
   "display_name": "Python 3 (ipykernel)",
   "language": "python",
   "name": "python3"
  },
  "language_info": {
   "codemirror_mode": {
    "name": "ipython",
    "version": 3
   },
   "file_extension": ".py",
   "mimetype": "text/x-python",
   "name": "python",
   "nbconvert_exporter": "python",
   "pygments_lexer": "ipython3",
   "version": "3.8.0"
  }
 },
 "nbformat": 4,
 "nbformat_minor": 5
}
